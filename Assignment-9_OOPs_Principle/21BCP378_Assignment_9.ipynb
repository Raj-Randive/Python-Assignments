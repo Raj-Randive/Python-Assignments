{
 "cells": [
  {
   "cell_type": "markdown",
   "id": "d8fe45c8-7ddf-4884-aca6-8151fea3aec6",
   "metadata": {},
   "source": [
    "# Name: Raj Randive\n",
    "# Roll Number: 21BCP378"
   ]
  },
  {
   "cell_type": "markdown",
   "id": "1bfa8a37-ca46-4f85-9374-03e4b6fb934a",
   "metadata": {},
   "source": [
    "# Q-1] Implement the OOPs examples provided in the PPT."
   ]
  },
  {
   "cell_type": "code",
   "execution_count": 1,
   "id": "6e88356a-74c6-40fe-b5fc-3ab69d9442a5",
   "metadata": {},
   "outputs": [
    {
     "name": "stdout",
     "output_type": "stream",
     "text": [
      "Scooby 5\n",
      "Sam\n"
     ]
    }
   ],
   "source": [
    "class Animal:\n",
    " def __init__(self, name,age1):\n",
    "   self.givenname = name\n",
    "   self.age = age1\n",
    "\n",
    " def printname(self):\n",
    "   print(self.givenname,self.age)\n",
    "\n",
    "class Dog(Animal):\n",
    " def __init__ (self, name, age):\n",
    "   super().__init__ (name, age)\n",
    "   self.owner = 'Sam'\n",
    "\n",
    "x = Dog(\"Scooby\", \"5\")\n",
    "x.printname()\n",
    "print(x.owner)"
   ]
  },
  {
   "cell_type": "code",
   "execution_count": 2,
   "id": "61f472fa-fa8f-4c92-b832-4ee2dd1beb92",
   "metadata": {},
   "outputs": [
    {
     "name": "stdout",
     "output_type": "stream",
     "text": [
      "Scooby 5\n"
     ]
    }
   ],
   "source": [
    "class Animal:\n",
    " def __init__(self, name,age1):\n",
    "  self.givenname = name\n",
    "  self.age = age1\n",
    "\n",
    " def  printname(self):\n",
    "  print(self.givenname,self.age)\n",
    "\n",
    "x = Animal(\"Scooby\", \"5\")\n",
    "x.printname()"
   ]
  },
  {
   "cell_type": "code",
   "execution_count": 3,
   "id": "cf2ae875-daff-4f8a-9709-ac68ee8a50cb",
   "metadata": {},
   "outputs": [
    {
     "name": "stdout",
     "output_type": "stream",
     "text": [
      "Scooby 5\n"
     ]
    }
   ],
   "source": [
    "class Animal:\n",
    " def __init__(self, name,age1):\n",
    "  self.givenname = name\n",
    "  self.age = age1\n",
    "\n",
    " def printname(self):\n",
    "  print(self.givenname,self.age)\n",
    "\n",
    "class Dog(Animal):\n",
    " pass\n",
    "\n",
    "x = Dog(\"Scooby\", \"5\")\n",
    "x.printname()"
   ]
  },
  {
   "cell_type": "code",
   "execution_count": 4,
   "id": "cd8fe12b-3f3a-4573-8ee7-2d7d2e392e17",
   "metadata": {},
   "outputs": [],
   "source": [
    "class Dog:\n",
    " def __init__ ( self,n,age ):\n",
    "  self.name = n\n",
    "  self.lifespan = 20\n",
    "  self.age = el\n",
    "  print(\"Dog created!!\")\n",
    "\n"
   ]
  },
  {
   "cell_type": "code",
   "execution_count": 28,
   "id": "533c731e-b5a8-4fa9-9a8a-ec84b3028bf2",
   "metadata": {},
   "outputs": [
    {
     "name": "stdout",
     "output_type": "stream",
     "text": [
      "5\n",
      "3\n"
     ]
    },
    {
     "ename": "AttributeError",
     "evalue": "'Rectangle' object has no attribute 'length'",
     "output_type": "error",
     "traceback": [
      "\u001b[1;31m---------------------------------------------------------------------------\u001b[0m",
      "\u001b[1;31mAttributeError\u001b[0m                            Traceback (most recent call last)",
      "Input \u001b[1;32mIn [28]\u001b[0m, in \u001b[0;36m<cell line: 14>\u001b[1;34m()\u001b[0m\n\u001b[0;32m     11\u001b[0m rec \u001b[38;5;241m=\u001b[39m Rectangle() \u001b[38;5;66;03m#object created for the class 'Rectangle'\u001b[39;00m\n\u001b[0;32m     12\u001b[0m \u001b[38;5;66;03m#printing values of the private variable outside the class using the object created for the class 'Rectangle'\u001b[39;00m\n\u001b[1;32m---> 14\u001b[0m \u001b[38;5;28mprint\u001b[39m(\u001b[43mrec\u001b[49m\u001b[38;5;241;43m.\u001b[39;49m\u001b[43mlength\u001b[49m)\n\u001b[0;32m     15\u001b[0m \u001b[38;5;28mprint\u001b[39m(rec\u001b[38;5;241m.\u001b[39mbreadth)\n",
      "\u001b[1;31mAttributeError\u001b[0m: 'Rectangle' object has no attribute 'length'"
     ]
    }
   ],
   "source": [
    "class Rectangle:\n",
    " __length = 0 #privatevariable\n",
    " __breadth = 0 #private variable\n",
    " def __init__(self): #constructor\n",
    "    self.__length = 5\n",
    "    self.__breadth = 3\n",
    "#printing valuesoftheprivatevariablewithintheclass\n",
    "    print(self.__length)\n",
    "    print(self.__breadth)\n",
    "\n",
    "rec = Rectangle() #object created for the class 'Rectangle'\n",
    "#printing values of the private variable outside the class using the object created for the class 'Rectangle'\n",
    "\n",
    "print(rec.length)\n",
    "print(rec.breadth)"
   ]
  },
  {
   "cell_type": "code",
   "execution_count": 6,
   "id": "407bbc62-6742-4647-8899-322d372c1105",
   "metadata": {},
   "outputs": [
    {
     "name": "stdout",
     "output_type": "stream",
     "text": [
      "He says bow wow.\n",
      "He says mew mew\n"
     ]
    }
   ],
   "source": [
    "class Dog():\n",
    " def makeNoise(self):\n",
    "  print(\"He says bow wow.\")\n",
    "\n",
    "class Cat():\n",
    " def makeNoise(self):\n",
    "  print(\"He says mew mew\")\n",
    "\n",
    "obj_d = Dog()\n",
    "obj_c = Cat()\n",
    "\n",
    "obj_d.makeNoise()\n",
    "obj_c.makeNoise()"
   ]
  },
  {
   "cell_type": "markdown",
   "id": "269e095d-0ca5-4eaa-92b9-4188291ac051",
   "metadata": {},
   "source": [
    "# Q-2] Practice the examples of Inheritance, Encapsulation and Polymorphism provided in the"
   ]
  },
  {
   "cell_type": "code",
   "execution_count": 7,
   "id": "b9af3fb0-f3c0-4a85-9f5e-486ce3bb316b",
   "metadata": {},
   "outputs": [
    {
     "name": "stdout",
     "output_type": "stream",
     "text": [
      "Blu is a bird\n",
      "Woo is also a bird\n",
      "Blu is 10 years old\n",
      "Woo is 15 years old\n"
     ]
    }
   ],
   "source": [
    "class Parrot:\n",
    "\n",
    "    # class attribute\n",
    "    species = \"bird\"\n",
    "\n",
    "    # instance attribute\n",
    "    def __init__(self, name, age):\n",
    "        self.name = name\n",
    "        self.age = age\n",
    "\n",
    "# instantiate the Parrot class\n",
    "blu = Parrot(\"Blu\", 10)\n",
    "woo = Parrot(\"Woo\", 15)\n",
    "\n",
    "# access the class attributes\n",
    "print(\"Blu is a {}\".format(blu.__class__.species))\n",
    "print(\"Woo is also a {}\".format(woo.__class__.species))\n",
    "\n",
    "# access the instance attributes\n",
    "print(\"{} is {} years old\".format( blu.name, blu.age))\n",
    "print(\"{} is {} years old\".format( woo.name, woo.age))"
   ]
  },
  {
   "cell_type": "code",
   "execution_count": 8,
   "id": "b9264daa-85a3-4be8-baa3-53ee5ab9723a",
   "metadata": {},
   "outputs": [
    {
     "name": "stdout",
     "output_type": "stream",
     "text": [
      "Blu sings 'Happy'\n",
      "Blu is now dancing\n"
     ]
    }
   ],
   "source": [
    "class Parrot:\n",
    "    \n",
    "    # instance attributes\n",
    "    def __init__(self, name, age):\n",
    "        self.name = name\n",
    "        self.age = age\n",
    "    \n",
    "    # instance method\n",
    "    def sing(self, song):\n",
    "        return \"{} sings {}\".format(self.name, song)\n",
    "\n",
    "    def dance(self):\n",
    "        return \"{} is now dancing\".format(self.name)\n",
    "\n",
    "# instantiate the object\n",
    "blu = Parrot(\"Blu\", 10)\n",
    "\n",
    "# call our instance methods\n",
    "print(blu.sing(\"'Happy'\"))\n",
    "print(blu.dance())"
   ]
  },
  {
   "cell_type": "code",
   "execution_count": 9,
   "id": "3d2fa707-5a85-4b36-b60b-5bf735665b73",
   "metadata": {},
   "outputs": [
    {
     "name": "stdout",
     "output_type": "stream",
     "text": [
      "Bird is ready\n",
      "Penguin is ready\n",
      "Penguin\n",
      "Swim faster\n",
      "Run faster\n"
     ]
    }
   ],
   "source": [
    "# parent class\n",
    "class Bird:\n",
    "    \n",
    "    def __init__(self):\n",
    "        print(\"Bird is ready\")\n",
    "\n",
    "    def whoisThis(self):\n",
    "        print(\"Bird\")\n",
    "\n",
    "    def swim(self):\n",
    "        print(\"Swim faster\")\n",
    "\n",
    "# child class\n",
    "class Penguin(Bird):\n",
    "\n",
    "    def __init__(self):\n",
    "        # call super() function\n",
    "        super().__init__()\n",
    "        print(\"Penguin is ready\")\n",
    "\n",
    "    def whoisThis(self):\n",
    "        print(\"Penguin\")\n",
    "\n",
    "    def run(self):\n",
    "        print(\"Run faster\")\n",
    "\n",
    "peggy = Penguin()\n",
    "peggy.whoisThis()\n",
    "peggy.swim()\n",
    "peggy.run()"
   ]
  },
  {
   "cell_type": "code",
   "execution_count": 10,
   "id": "355804b2-7bbf-488b-b731-c0fdba5ca87b",
   "metadata": {},
   "outputs": [
    {
     "name": "stdout",
     "output_type": "stream",
     "text": [
      "Selling Price: 900\n",
      "Selling Price: 900\n",
      "Selling Price: 1000\n"
     ]
    }
   ],
   "source": [
    "class Computer:\n",
    "\n",
    "    def __init__(self):\n",
    "        self.__maxprice = 900\n",
    "\n",
    "    def sell(self):\n",
    "        print(\"Selling Price: {}\".format(self.__maxprice))\n",
    "\n",
    "    def setMaxPrice(self, price):\n",
    "        self.__maxprice = price\n",
    "\n",
    "c = Computer()\n",
    "c.sell()\n",
    "\n",
    "# change the price\n",
    "c.__maxprice = 1000\n",
    "c.sell()\n",
    "\n",
    "# using setter function\n",
    "c.setMaxPrice(1000)\n",
    "c.sell()"
   ]
  },
  {
   "cell_type": "code",
   "execution_count": 11,
   "id": "b5c40a64-7c2e-4711-a8c9-275f72e31136",
   "metadata": {},
   "outputs": [
    {
     "name": "stdout",
     "output_type": "stream",
     "text": [
      "Parrot can fly\n",
      "Penguin can't fly\n"
     ]
    }
   ],
   "source": [
    "class Parrot:\n",
    "\n",
    "    def fly(self):\n",
    "        print(\"Parrot can fly\")\n",
    "    \n",
    "    def swim(self):\n",
    "        print(\"Parrot can't swim\")\n",
    "\n",
    "class Penguin:\n",
    "\n",
    "    def fly(self):\n",
    "        print(\"Penguin can't fly\")\n",
    "    \n",
    "    def swim(self):\n",
    "        print(\"Penguin can swim\")\n",
    "\n",
    "# common interface\n",
    "def flying_test(bird):\n",
    "    bird.fly()\n",
    "\n",
    "#instantiate objects\n",
    "blu = Parrot()\n",
    "peggy = Penguin()\n",
    "\n",
    "# passing the object\n",
    "flying_test(blu)\n",
    "flying_test(peggy)"
   ]
  },
  {
   "cell_type": "code",
   "execution_count": null,
   "id": "ed1dbd24-d4b3-427e-af83-47f697f6b43f",
   "metadata": {},
   "outputs": [],
   "source": []
  }
 ],
 "metadata": {
  "kernelspec": {
   "display_name": "Python 3 (ipykernel)",
   "language": "python",
   "name": "python3"
  },
  "language_info": {
   "codemirror_mode": {
    "name": "ipython",
    "version": 3
   },
   "file_extension": ".py",
   "mimetype": "text/x-python",
   "name": "python",
   "nbconvert_exporter": "python",
   "pygments_lexer": "ipython3",
   "version": "3.10.1"
  }
 },
 "nbformat": 4,
 "nbformat_minor": 5
}

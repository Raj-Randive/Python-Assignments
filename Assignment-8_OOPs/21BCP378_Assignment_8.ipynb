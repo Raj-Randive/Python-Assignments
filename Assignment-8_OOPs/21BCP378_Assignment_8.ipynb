{
 "cells": [
  {
   "cell_type": "markdown",
   "id": "64ed83c3-c011-4a1f-9b68-a0a8b90e6ed8",
   "metadata": {},
   "source": [
    "# Name: Raj Randive\n",
    "# Roll Number: 21BCP378"
   ]
  },
  {
   "cell_type": "markdown",
   "id": "81c945d3-fb93-4c8e-a1b7-8bb8a73240f2",
   "metadata": {},
   "source": [
    "# Q-1] Implement the OOPs examples provided in the PPT."
   ]
  },
  {
   "cell_type": "code",
   "execution_count": 7,
   "id": "ffc0362c-4b60-43b5-a7fb-37be0288dc1a",
   "metadata": {},
   "outputs": [
    {
     "name": "stdout",
     "output_type": "stream",
     "text": [
      "Dog has been created!!\n",
      "ScoobyDoo is walking!\n",
      "ScoobyDoo is eating!\n",
      "\n",
      "\n",
      "Dog has been created!!\n",
      "ScoobyDoo is walking!\n",
      "ScoobyDoo is eating!\n",
      "\n",
      "\n",
      "5\n",
      "<class '__main__.Myclass'>\n",
      "\n",
      "\n",
      "\n",
      "\n",
      "John\n",
      "36\n",
      "\n",
      "\n",
      "\n",
      "Hello my name is John\n",
      "And my age is 32\n",
      "\n",
      "\n",
      "\n",
      "\n",
      "Raj\n",
      "40\n"
     ]
    },
    {
     "ename": "AttributeError",
     "evalue": "'Person' object has no attribute 'age'",
     "output_type": "error",
     "traceback": [
      "\u001b[1;31m---------------------------------------------------------------------------\u001b[0m",
      "\u001b[1;31mAttributeError\u001b[0m                            Traceback (most recent call last)",
      "Input \u001b[1;32mIn [7]\u001b[0m, in \u001b[0;36m<cell line: 88>\u001b[1;34m()\u001b[0m\n\u001b[0;32m     85\u001b[0m \u001b[38;5;28mprint\u001b[39m(p1\u001b[38;5;241m.\u001b[39mage)\n\u001b[0;32m     87\u001b[0m \u001b[38;5;28;01mdel\u001b[39;00m p1\u001b[38;5;241m.\u001b[39mage \u001b[38;5;66;03m# After deleting the age property...!!\u001b[39;00m\n\u001b[1;32m---> 88\u001b[0m \u001b[38;5;28mprint\u001b[39m(\u001b[43mp1\u001b[49m\u001b[38;5;241;43m.\u001b[39;49m\u001b[43mage\u001b[49m)\n",
      "\u001b[1;31mAttributeError\u001b[0m: 'Person' object has no attribute 'age'"
     ]
    }
   ],
   "source": [
    "# OOPs Questions Practice...!!\n",
    "\n",
    "class Dog:\n",
    "    def __init__(self,n,sc,el,spot):\n",
    "        self.name =n\n",
    "        self.skinColor = sc\n",
    "        self.earLength = el\n",
    "        self.isSpotted =spot\n",
    "        print(\"Dog has been created!!\")\n",
    "\n",
    "    def walk(self):\n",
    "        print(\"{0} is walking!\".format(self.name))\n",
    "\n",
    "    def eat(self):\n",
    "        print(\"{0} is eating!\\n\\n\".format(self.name))\n",
    "\n",
    "dog1 = Dog('ScoobyDoo','brown','short',True)  # Creating an object\n",
    "dog1.walk()\n",
    "dog1.eat()\n",
    "\n",
    "dog2 = Dog('Tom','brown','short',True)        # Creating an object\n",
    "dog1.walk()\n",
    "dog1.eat()\n",
    "\n",
    "\n",
    "\n",
    "# *******************************************************************************************\n",
    "\n",
    "\n",
    "\n",
    "class Myclass:\n",
    "    x=5\n",
    "p1 = Myclass()\n",
    "print(p1.x)\n",
    "print(Myclass)\n",
    "print(\"\\n\\n\\n\")\n",
    "\n",
    "\n",
    "\n",
    "# ************************************************************************************************\n",
    "\n",
    "\n",
    "\n",
    "class Person:\n",
    "    def __init__(self, name, age):\n",
    "        self.name = name\n",
    "        self.age = age\n",
    "\n",
    "p1 = Person(\"John\", 36)   # Creating an object\n",
    "print(p1.name)  # Syntax for printing values of objects\n",
    "print(p1.age)\n",
    "print(\"\\n\\n\")\n",
    "\n",
    "\n",
    "\n",
    "# ************************************************************************************************\n",
    "\n",
    "\n",
    "# Other way of printing the values of the objects by using Functions...!!\n",
    "class Person:\n",
    "    def __init__(self, name, age):\n",
    "        self.name = name\n",
    "        self.age = age\n",
    "\n",
    "    def myfunc(self):\n",
    "        print(\"Hello my name is \" + self.name)\n",
    "        print(\"And my age is \" + self.age)\n",
    "\n",
    "p1 = Person(\"John\", \"32\")\n",
    "p1.myfunc()  # Other way of printing the values of the objects by using Functions...!!\n",
    "print(\"\\n\\n\\n\")\n",
    "\n",
    "# ************************************************************************************************\n",
    "\n",
    "\n",
    "# Yet another way of defining and printing values using object\n",
    "class Person:\n",
    "    def __init__(myobject,name,age):\n",
    "        myobject.name = name\n",
    "        myobject.age =age\n",
    "\n",
    "p1 = Person(\"Raj\", \"19\")\n",
    "p1.age = \"40\"\n",
    "print(p1.name)\n",
    "print(p1.age)\n",
    "\n",
    "del p1.age # After deleting the age property...!!\n",
    "print(p1.age)"
   ]
  },
  {
   "cell_type": "code",
   "execution_count": null,
   "id": "86a1cecf-7f6c-497d-85ef-359337933eab",
   "metadata": {},
   "outputs": [],
   "source": [
    "# ****************************************************************************************************************"
   ]
  },
  {
   "cell_type": "markdown",
   "id": "4ae05972-fb0b-457e-8f0d-330abee8a9c3",
   "metadata": {},
   "source": [
    "# Q-2] Write a python code using the concept of OOPs to add two complex numbers."
   ]
  },
  {
   "cell_type": "code",
   "execution_count": 9,
   "id": "edb75b85-ecaa-4622-98f8-4352db071fb8",
   "metadata": {},
   "outputs": [
    {
     "name": "stdout",
     "output_type": "stream",
     "text": [
      "\n",
      "The Format for writing complex numbers : a + ib. \n",
      "\n",
      "Enter first complex number\n"
     ]
    },
    {
     "name": "stdin",
     "output_type": "stream",
     "text": [
      "\tEnter the Real Part of Complex Number:  2\n",
      "\tEnter the Imaginary Part of Complex Number:  3\n"
     ]
    },
    {
     "name": "stdout",
     "output_type": "stream",
     "text": [
      "\tFirst Complex Number: 2+3i\n",
      "Enter second complex number\n"
     ]
    },
    {
     "name": "stdin",
     "output_type": "stream",
     "text": [
      "\tEnter the Real Part of Complex Number:  3\n",
      "\tEnter the Imaginary Part of Complex Number:  7\n"
     ]
    },
    {
     "name": "stdout",
     "output_type": "stream",
     "text": [
      "\tSecond Complex Number: 3+7i\n",
      "\n",
      "Sum of two complex numbers is 5+10i\n"
     ]
    }
   ],
   "source": [
    "print(\"\\nThe Format for writing complex numbers : a + ib. \\n\")\n",
    "\n",
    "class Complex:\n",
    "    def initComplex(rajcode):\n",
    "        rajcode.realpart = int(input(\"\\tEnter the Real Part of Complex Number: \"))\n",
    "        rajcode.imgpart = int(input(\"\\tEnter the Imaginary Part of Complex Number: \"))\n",
    "\n",
    "    def show(rajcode):\n",
    "        print(rajcode.realpart, \"+\", rajcode.imgpart,\"i\", sep=\"\")\n",
    "\n",
    "    def sum1(rajcode, c1, c2):\n",
    "        rajcode.realpart = c1.realpart + c2.realpart\n",
    "        rajcode.imgpart = c1.imgpart + c2.imgpart\n",
    "\n",
    "\n",
    "c1 = Complex()\n",
    "c2 = Complex()\n",
    "c3 = Complex()\n",
    "print(\"Enter first complex number\")\n",
    "c1.initComplex()\n",
    "print(\"\\tFirst Complex Number: \", end=\"\")\n",
    "c1.show()\n",
    "print(\"Enter second complex number\")\n",
    "c2.initComplex()\n",
    "print(\"\\tSecond Complex Number: \", end=\"\")\n",
    "c2.show()\n",
    "print(\"\\nSum of two complex numbers is \", end=\"\")\n",
    "c3.sum1(c1,c2)\n",
    "c3.show()"
   ]
  },
  {
   "cell_type": "code",
   "execution_count": null,
   "id": "b074ce6f-98be-48fe-a1ab-f1b03582d7e9",
   "metadata": {},
   "outputs": [],
   "source": []
  }
 ],
 "metadata": {
  "kernelspec": {
   "display_name": "Python 3 (ipykernel)",
   "language": "python",
   "name": "python3"
  },
  "language_info": {
   "codemirror_mode": {
    "name": "ipython",
    "version": 3
   },
   "file_extension": ".py",
   "mimetype": "text/x-python",
   "name": "python",
   "nbconvert_exporter": "python",
   "pygments_lexer": "ipython3",
   "version": "3.10.1"
  }
 },
 "nbformat": 4,
 "nbformat_minor": 5
}

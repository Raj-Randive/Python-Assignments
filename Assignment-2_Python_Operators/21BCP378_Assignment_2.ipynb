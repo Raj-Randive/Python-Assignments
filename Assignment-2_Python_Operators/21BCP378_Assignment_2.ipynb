{
 "cells": [
  {
   "cell_type": "markdown",
   "id": "e4ca5be3-efbe-437f-9184-667c42ed2bac",
   "metadata": {},
   "source": [
    "# Name: Raj Randive\n",
    "# Roll Number: 21BCP378"
   ]
  },
  {
   "cell_type": "markdown",
   "id": "a817bd1a-914d-4878-97ca-9052d8d3a816",
   "metadata": {},
   "source": [
    "# Q1] WAP to take two floats as input and print all the permutations of the applicable operators on them."
   ]
  },
  {
   "cell_type": "code",
   "execution_count": 1,
   "id": "2ebfd4a2-db86-4d0d-81e3-8487ef87d93f",
   "metadata": {},
   "outputs": [
    {
     "name": "stdin",
     "output_type": "stream",
     "text": [
      "Enter any two numbers:  5.4 2.1\n"
     ]
    },
    {
     "name": "stdout",
     "output_type": "stream",
     "text": [
      "Addition: 7.5, \n",
      "Subtration: 3.3000000000000003, \n",
      "Multiplication: 11.340000000000002, \n",
      "Division: 2.5714285714285716, \n",
      "Modulus: 1.2000000000000002, \n",
      "Exponential: 34.51651145674893, \n",
      "Floor Division: 2.0\n",
      "Equal :  False\n",
      "Not Equal :  True\n",
      "x > y :  True\n",
      "x < y :  False\n",
      "x >= y :  True\n",
      "x <= y :  False\n",
      "And :  2.1\n",
      "Or :  5.4\n",
      "not:  True\n",
      "is :  False\n",
      "is not :  True\n",
      "comma :  (5.4, 2.1)\n",
      "+= :  7.5\n",
      "-= :  5.4\n",
      "*= :  11.340000000000002\n",
      "/= :  5.4\n",
      "%= :  1.2000000000000002\n",
      "//= :  2.0\n",
      "**= :  4.2870938501451725\n"
     ]
    }
   ],
   "source": [
    "x,y = map(float, input(\"Enter any two numbers: \").split(\" \"))\n",
    "a=x\n",
    "b=y\n",
    "print(f\"Addition: {x+y}, \\nSubtration: {x-y}, \\nMultiplication: {x*y}, \\nDivision: {x/y}, \\nModulus: {x%y}, \\nExponential: {x**y}, \\nFloor Division: {x//y}\")\n",
    "\n",
    "print(\"Equal : \", x==y)\n",
    "print(\"Not Equal : \", x!=y)\n",
    "print(\"x > y : \", x>y)\n",
    "print(\"x < y : \", x<y)\n",
    "print(\"x >= y : \", x>=y)\n",
    "print(\"x <= y : \", x<=y)\n",
    "\n",
    "print(\"And : \", x and y)\n",
    "print(\"Or : \", x or y)\n",
    "print(\"not: \", not(x is y))\n",
    "\n",
    "print(\"is : \", x is y)\n",
    "print(\"is not : \", x is not y)\n",
    "\n",
    "print(\"comma : \", (x,y))\n",
    "\n",
    "x+=y\n",
    "print(\"+= : \", x)\n",
    "\n",
    "x-=y\n",
    "print(\"-= : \", x)\n",
    "\n",
    "x*=y\n",
    "print(\"*= : \", x)\n",
    "\n",
    "x/=y\n",
    "print(\"/= : \", x)\n",
    "\n",
    "x%=y\n",
    "print(\"%= : \", x)\n",
    "\n",
    "a//=b\n",
    "print(\"//= : \", a)\n",
    "\n",
    "a**=b\n",
    "print(\"**= : \", a)"
   ]
  },
  {
   "cell_type": "markdown",
   "id": "fcc67da0-be1f-4093-b6f3-73a2fc21d03a",
   "metadata": {},
   "source": [
    "# Q2] WAP to take 5 integer values as input and print the quotient and remainder when the maximum of them is divided by the minimum of them."
   ]
  },
  {
   "cell_type": "code",
   "execution_count": 4,
   "id": "2c8aa1ed-b962-418c-9883-cc5df1d990cb",
   "metadata": {},
   "outputs": [
    {
     "name": "stdin",
     "output_type": "stream",
     "text": [
      "Enter the five Numbers:  56 72 89 5 3\n"
     ]
    },
    {
     "name": "stdout",
     "output_type": "stream",
     "text": [
      "The Quotient and Remainder respectively is:  (29, 2)\n"
     ]
    }
   ],
   "source": [
    "a,b,c,d,e = map(int, input(\"Enter the five Numbers: \").split(\" \"))\n",
    "print(\"The Quotient and Remainder respectively is: \", divmod(max(a,b,c,d,e),min(a,b,c,d,e)))"
   ]
  },
  {
   "cell_type": "code",
   "execution_count": null,
   "id": "8319561c-71b0-4669-9f2d-553f98bfdbc3",
   "metadata": {},
   "outputs": [],
   "source": []
  }
 ],
 "metadata": {
  "kernelspec": {
   "display_name": "Python 3 (ipykernel)",
   "language": "python",
   "name": "python3"
  },
  "language_info": {
   "codemirror_mode": {
    "name": "ipython",
    "version": 3
   },
   "file_extension": ".py",
   "mimetype": "text/x-python",
   "name": "python",
   "nbconvert_exporter": "python",
   "pygments_lexer": "ipython3",
   "version": "3.10.1"
  }
 },
 "nbformat": 4,
 "nbformat_minor": 5
}

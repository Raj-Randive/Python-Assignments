{
 "cells": [
  {
   "cell_type": "markdown",
   "id": "36bbfdc3-0778-4f1b-b576-37bc2b9f7622",
   "metadata": {},
   "source": [
    "# Q-1] Input an integer, and print the multiplication table for the  number."
   ]
  },
  {
   "cell_type": "code",
   "execution_count": 2,
   "id": "f0e8ecda-d9bf-495f-a45b-f329370e3b5f",
   "metadata": {},
   "outputs": [
    {
     "name": "stdin",
     "output_type": "stream",
     "text": [
      "Enter the number to print Multiplication Table:  6\n"
     ]
    },
    {
     "name": "stdout",
     "output_type": "stream",
     "text": [
      "6 x 1 = 6 \n",
      "6 x 2 = 12 \n",
      "6 x 3 = 18 \n",
      "6 x 4 = 24 \n",
      "6 x 5 = 30 \n",
      "6 x 6 = 36 \n",
      "6 x 7 = 42 \n",
      "6 x 8 = 48 \n",
      "6 x 9 = 54 \n",
      "6 x 10 = 60 \n"
     ]
    }
   ],
   "source": [
    "x = int(input(\"Enter the number to print Multiplication Table: \"))\n",
    "for i in range(1, 11):\n",
    "    print(f\"{x} x {i} = {x*i} \")"
   ]
  },
  {
   "cell_type": "markdown",
   "id": "fd809d0d-a1bf-49b1-8aeb-07a8ef28a25b",
   "metadata": {},
   "source": [
    "# Q-2] Input 10 characters using while loop and count how many vowels are there."
   ]
  },
  {
   "cell_type": "code",
   "execution_count": 2,
   "id": "ef88bdcb-ce95-484b-99ce-2d5986dc1f4e",
   "metadata": {},
   "outputs": [
    {
     "name": "stdin",
     "output_type": "stream",
     "text": [
      "Enter Character 1:  A\n",
      "Enter Character 2:  E\n",
      "Enter Character 3:  P\n",
      "Enter Character 4:  R\n",
      "Enter Character 5:  E\n",
      "Enter Character 6:  E\n",
      "Enter Character 7:  t\n",
      "Enter Character 8:  e\n",
      "Enter Character 9:  i\n",
      "Enter Character 10:  f\n"
     ]
    },
    {
     "name": "stdout",
     "output_type": "stream",
     "text": [
      "The number of Vowels are: 6\n"
     ]
    }
   ],
   "source": [
    "l=['a', 'e', 'i', 'o', 'u']\n",
    "i,count=1,0\n",
    "while(i<=10):\n",
    "    x = input(f\"Enter Character {i}: \").lower()\n",
    "    if x in l:\n",
    "        count+=1\n",
    "    i+=1\n",
    "print(f\"The number of Vowels are: {count}\")"
   ]
  },
  {
   "cell_type": "markdown",
   "id": "b0a52a11-89e1-4253-8ffc-a9e565d4d148",
   "metadata": {},
   "source": [
    "# Q-3] Find sum of numbers from 1 to 100 which are divisible by either 2 or3. (Hint : use while loop + compound if statement -“or”)"
   ]
  },
  {
   "cell_type": "code",
   "execution_count": 4,
   "id": "d8e15f23-45b3-4f4b-a0b2-2605fd0bfed4",
   "metadata": {},
   "outputs": [
    {
     "name": "stdout",
     "output_type": "stream",
     "text": [
      "The Sum of numbers from 1 to 100 which are divisible by either 2 or 3 is: 3417\n"
     ]
    }
   ],
   "source": [
    "sum = 0\n",
    "for i in range (1,101):\n",
    "    if(i%2==0 or i%3==0):\n",
    "        sum+=i\n",
    "print(f\"The Sum of numbers from 1 to 100 which are divisible by either 2 or 3 is: {sum}\")"
   ]
  },
  {
   "cell_type": "markdown",
   "id": "d765e68c-1855-4b2e-a3eb-860023d4822a",
   "metadata": {},
   "source": [
    "# Q-4] Input a float number which will be the side of a square,  prompt user to enter a positive value if user inputs a  negative value. Finally calculate the area of the square.  (Hint : use “continue”)"
   ]
  },
  {
   "cell_type": "code",
   "execution_count": 5,
   "id": "65db9de4-e6ff-4db5-b3ef-90ebe931086b",
   "metadata": {},
   "outputs": [
    {
     "name": "stdin",
     "output_type": "stream",
     "text": [
      "Enter a length of side of square:  -4.5\n",
      "Please enter a positive side/length:  -3.6\n",
      "Please enter a positive side/length:  -7.2\n",
      "Please enter a positive side/length:  5.6\n"
     ]
    },
    {
     "name": "stdout",
     "output_type": "stream",
     "text": [
      "The Area of the square is : 31.359999999999996\n"
     ]
    }
   ],
   "source": [
    "x = float(input(\"Enter a length of side of square: \"))\n",
    "while(True):\n",
    "    if(x<=0):\n",
    "        x = float(input(\"Please enter a positive side/length: \"))\n",
    "    elif(x>0):\n",
    "        break\n",
    "print(f\"The Area of the square is : {x*x}\")"
   ]
  },
  {
   "cell_type": "code",
   "execution_count": null,
   "id": "ba213e7e-bce8-4112-8a2a-c6468381311c",
   "metadata": {},
   "outputs": [],
   "source": []
  }
 ],
 "metadata": {
  "kernelspec": {
   "display_name": "Python 3 (ipykernel)",
   "language": "python",
   "name": "python3"
  },
  "language_info": {
   "codemirror_mode": {
    "name": "ipython",
    "version": 3
   },
   "file_extension": ".py",
   "mimetype": "text/x-python",
   "name": "python",
   "nbconvert_exporter": "python",
   "pygments_lexer": "ipython3",
   "version": "3.10.1"
  }
 },
 "nbformat": 4,
 "nbformat_minor": 5
}

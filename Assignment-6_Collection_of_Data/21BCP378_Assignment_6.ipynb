{
 "cells": [
  {
   "cell_type": "markdown",
   "id": "721db6c3-ea4e-4b78-a411-63e6eb2006bf",
   "metadata": {},
   "source": [
    "# Name: Raj Randive\n",
    "# Roll Number: 21BCP378"
   ]
  },
  {
   "cell_type": "markdown",
   "id": "c3e7ed72-fff8-4f1a-8e36-e91ca8373561",
   "metadata": {},
   "source": [
    "# Q-1] Practice all the examples for List, Tuple, Set and Dictionaries. provided in the attached pdf and submit the notebook."
   ]
  },
  {
   "cell_type": "markdown",
   "id": "acdc0309-5535-474f-9c24-c812b26d5d21",
   "metadata": {},
   "source": [
    "# (a) list."
   ]
  },
  {
   "cell_type": "code",
   "execution_count": 14,
   "id": "0031f236-edc0-4df1-8c48-6fc4ddb0b352",
   "metadata": {},
   "outputs": [
    {
     "name": "stdout",
     "output_type": "stream",
     "text": [
      "<class 'list'>\n",
      "['Car', 1, 3, 'Computer', 'Samsung', 5]\n"
     ]
    }
   ],
   "source": [
    "l = [\"Car\", 1, 3, \"Computer\", \"Samsung\", 5 ]\n",
    "print(type(l))\n",
    "print(l)"
   ]
  },
  {
   "cell_type": "code",
   "execution_count": 3,
   "id": "a9e3b27d-82ba-40dc-8484-1bf46147a84f",
   "metadata": {},
   "outputs": [
    {
     "name": "stdout",
     "output_type": "stream",
     "text": [
      "['Car', 1, 3, 'Computer', 'Samsung', 5, 'Raj']\n"
     ]
    }
   ],
   "source": [
    "l.append(\"Raj\")\n",
    "print(l)"
   ]
  },
  {
   "cell_type": "code",
   "execution_count": 4,
   "id": "0a585ed1-bbee-4502-b929-765dd74b03f5",
   "metadata": {},
   "outputs": [
    {
     "name": "stdout",
     "output_type": "stream",
     "text": [
      "['apple', 'watermelon']\n"
     ]
    }
   ],
   "source": [
    "list = [\"apple\", \"banana\", \"cherry\"]\n",
    "list[1:3] = [\"watermelon\"] \n",
    "print(list)\n"
   ]
  },
  {
   "cell_type": "code",
   "execution_count": 7,
   "id": "08b4ef39-c124-436e-8c40-6df91ece7b7a",
   "metadata": {},
   "outputs": [
    {
     "name": "stdout",
     "output_type": "stream",
     "text": [
      "['apple', 'watermelon', 'banana', 'cherry']\n"
     ]
    }
   ],
   "source": [
    "list = [\"apple\", \"banana\", \"cherry\"] \n",
    "list.insert(1, \"watermelon\") \n",
    "print(list)\n"
   ]
  },
  {
   "cell_type": "code",
   "execution_count": 8,
   "id": "44936796-953e-4b59-9f94-2ec4c16eb551",
   "metadata": {},
   "outputs": [
    {
     "name": "stdout",
     "output_type": "stream",
     "text": [
      "['apple', 'banana', 'cherry', 'Mango']\n"
     ]
    }
   ],
   "source": [
    "list = [\"apple\", \"banana\", \"cherry\"] \n",
    "list.append(\"Mango\") \n",
    "print(list)\n"
   ]
  },
  {
   "cell_type": "code",
   "execution_count": 9,
   "id": "dd308cc0-a04d-4e02-b779-82f431dd037b",
   "metadata": {},
   "outputs": [
    {
     "name": "stdout",
     "output_type": "stream",
     "text": [
      "['apple', 'banana', 'cherry', 'Mango', 'Pineapple', 'Kiwi', 'orange']\n"
     ]
    }
   ],
   "source": [
    "list1 = [\"apple\", \"banana\", \"cherry\"]\n",
    "list2 = [\"Mango\", \"Pineapple\", \"Kiwi\", \"orange\"]\n",
    "list1.extend(list2) \n",
    "print(list1)\n"
   ]
  },
  {
   "cell_type": "code",
   "execution_count": 10,
   "id": "e8e75fa7-3e5b-4a31-97fa-464e614b4cf6",
   "metadata": {},
   "outputs": [
    {
     "name": "stdout",
     "output_type": "stream",
     "text": [
      "['apple', 'banana', 'cherry', 'Berries', 'peaches', 'grapefruits']\n"
     ]
    }
   ],
   "source": [
    "list3 = [\"apple\", \"banana\", \"cherry\"]\n",
    "tuple1 = [\"Berries\", \"peaches\", \"grapefruits\"]\n",
    "list3.extend(tuple1)\n",
    "print(list3)"
   ]
  },
  {
   "cell_type": "code",
   "execution_count": 11,
   "id": "3cb8b213-8bd4-46cf-842f-6f3de93c28cc",
   "metadata": {},
   "outputs": [
    {
     "name": "stdout",
     "output_type": "stream",
     "text": [
      "['apple', 'cherry']\n"
     ]
    }
   ],
   "source": [
    "list = [\"apple\", \"banana\", \"cherry\"]\n",
    "list.remove(\"banana\") \n",
    "print(list)\n"
   ]
  },
  {
   "cell_type": "code",
   "execution_count": 12,
   "id": "052f52ca-22c9-4137-a637-95a4936b01fd",
   "metadata": {},
   "outputs": [
    {
     "name": "stdout",
     "output_type": "stream",
     "text": [
      "['apple', 'cherry']\n"
     ]
    }
   ],
   "source": [
    "list = [\"apple\", \"banana\", \"cherry\"]\n",
    "list.pop(1)\n",
    "print(list)\n"
   ]
  },
  {
   "cell_type": "markdown",
   "id": "426d8fdf-b1fa-4901-967b-1bbf1f3a4854",
   "metadata": {},
   "source": [
    "Q-] If you do not specify the index, what does pop() do?"
   ]
  },
  {
   "cell_type": "markdown",
   "id": "b51eca20-1ba8-422b-86fb-120dde892579",
   "metadata": {},
   "source": [
    "Ans: It will remove the last item in the dictionary (By default)."
   ]
  },
  {
   "cell_type": "code",
   "execution_count": 13,
   "id": "686bda4b-e1b1-402f-b3db-6acee2d39db2",
   "metadata": {},
   "outputs": [
    {
     "name": "stdout",
     "output_type": "stream",
     "text": [
      "['apple', 'banana']\n"
     ]
    }
   ],
   "source": [
    "list = [\"apple\", \"banana\", \"cherry\"]\n",
    "list.pop()\n",
    "print(list)"
   ]
  },
  {
   "cell_type": "code",
   "execution_count": 14,
   "id": "e65a06fe-fc21-4368-a57d-268045015ee6",
   "metadata": {},
   "outputs": [
    {
     "name": "stdout",
     "output_type": "stream",
     "text": [
      "['apple', 'cherry']\n"
     ]
    }
   ],
   "source": [
    "list = [\"apple\", \"banana\", \"cherry\"] \n",
    "del list[1]\n",
    "print(list)"
   ]
  },
  {
   "cell_type": "code",
   "execution_count": 23,
   "id": "b1b4c090-9d98-4d4c-aa2c-aae3663b4a44",
   "metadata": {},
   "outputs": [
    {
     "name": "stdout",
     "output_type": "stream",
     "text": [
      "['apple', 'banana', 'cherry']\n"
     ]
    },
    {
     "ename": "NameError",
     "evalue": "name 'l' is not defined",
     "output_type": "error",
     "traceback": [
      "\u001b[1;31m---------------------------------------------------------------------------\u001b[0m",
      "\u001b[1;31mNameError\u001b[0m                                 Traceback (most recent call last)",
      "Input \u001b[1;32mIn [23]\u001b[0m, in \u001b[0;36m<cell line: 4>\u001b[1;34m()\u001b[0m\n\u001b[0;32m      2\u001b[0m \u001b[38;5;28mprint\u001b[39m(l) \n\u001b[0;32m      3\u001b[0m \u001b[38;5;28;01mdel\u001b[39;00m l \n\u001b[1;32m----> 4\u001b[0m \u001b[38;5;28mprint\u001b[39m(\u001b[43ml\u001b[49m)\n",
      "\u001b[1;31mNameError\u001b[0m: name 'l' is not defined"
     ]
    }
   ],
   "source": [
    "l = [\"apple\", \"banana\", \"cherry\"]\n",
    "print(l) \n",
    "del l \n",
    "print(l)\n"
   ]
  },
  {
   "cell_type": "code",
   "execution_count": 24,
   "id": "16d4781a-d536-48b2-9f16-b44de5697ae9",
   "metadata": {},
   "outputs": [
    {
     "name": "stdout",
     "output_type": "stream",
     "text": [
      "[]\n"
     ]
    }
   ],
   "source": [
    "l = [\"apple\", \"banana\", \"cherry\"]\n",
    "l.clear() \n",
    "print(l)"
   ]
  },
  {
   "cell_type": "markdown",
   "id": "92a9cb23-0742-4932-9c32-03a713c5888c",
   "metadata": {},
   "source": [
    "# (b) Loop through a List."
   ]
  },
  {
   "cell_type": "code",
   "execution_count": 28,
   "id": "8a244300-b1a0-452e-bb44-4775d58fd425",
   "metadata": {
    "tags": []
   },
   "outputs": [
    {
     "name": "stdout",
     "output_type": "stream",
     "text": [
      "apple\n",
      "banana\n",
      "cherry\n"
     ]
    }
   ],
   "source": [
    "l = [\"apple\", \"banana\", \"cherry\"] \n",
    "for i in l:\n",
    "    print(i)\n"
   ]
  },
  {
   "cell_type": "code",
   "execution_count": 32,
   "id": "c0273f9c-1371-46da-8c68-22932f365010",
   "metadata": {},
   "outputs": [
    {
     "name": "stdout",
     "output_type": "stream",
     "text": [
      "apple\n",
      "banana\n",
      "cherry\n"
     ]
    }
   ],
   "source": [
    "l = [\"apple\", \"banana\", \"cherry\"] \n",
    "i = 0\n",
    "while i < len(l):\n",
    "    print(l[i])\n",
    "    i=i+1"
   ]
  },
  {
   "cell_type": "code",
   "execution_count": 34,
   "id": "50ff3c1a-5bd0-4ed8-a680-76d9a0de2a76",
   "metadata": {},
   "outputs": [
    {
     "name": "stdout",
     "output_type": "stream",
     "text": [
      "apple\n",
      "banana\n",
      "mango\n"
     ]
    }
   ],
   "source": [
    "fruits = [\"apple\", \"banana\", \"cherry\", \"kiwi\", \"mango\"]\n",
    "newlist = []\n",
    "for i in fruits:\n",
    "    if \"a\" in i:\n",
    "        newlist.append(i)\n",
    "        print(i)"
   ]
  },
  {
   "cell_type": "code",
   "execution_count": 2,
   "id": "9ef8fa24-377f-457d-93ad-43c9168d5d6d",
   "metadata": {},
   "outputs": [
    {
     "name": "stdout",
     "output_type": "stream",
     "text": [
      "The index of elephant is: 5\n",
      "['Raj', 'Raj', 'Raj', 'Raj', 'Raj']\n"
     ]
    }
   ],
   "source": [
    "l = [\"apple\", \"banana\", \"carrot\", \"dragonfruit\", \"elephant\"]\n",
    "if \"elephant\" in l:\n",
    "    x = l.index(\"elephant\")\n",
    "print(f\"The index of elephant is: {x+1}\")\n",
    "nl = [\"Raj\" for i in l]\n",
    "print(nl)"
   ]
  },
  {
   "cell_type": "markdown",
   "id": "f94f27df-fdf9-4f9d-ac8d-9398debfb678",
   "metadata": {},
   "source": [
    "# (c) Python Tuples"
   ]
  },
  {
   "cell_type": "code",
   "execution_count": 4,
   "id": "ed86a07e-1ef5-44a6-a69b-7c122be5fbbe",
   "metadata": {},
   "outputs": [
    {
     "name": "stdout",
     "output_type": "stream",
     "text": [
      "('apple', 'banana', 'cherry')\n",
      "banana\n"
     ]
    }
   ],
   "source": [
    "t = (\"apple\", \"banana\", \"cherry\") \n",
    "print(t)\n",
    "print(t[1])"
   ]
  },
  {
   "cell_type": "code",
   "execution_count": 6,
   "id": "471836f6-caae-4f5a-8cd7-2547612351aa",
   "metadata": {},
   "outputs": [
    {
     "name": "stdout",
     "output_type": "stream",
     "text": [
      "('apple', 'Kiwi', 'cherry')\n"
     ]
    }
   ],
   "source": [
    "t1 = (\"apple\", \"banana\", \"cherry\")\n",
    "t2 = list(t1)\n",
    "t2[1] = \"Kiwi\"\n",
    "t1 = tuple(t2)\n",
    "\n",
    "print(t1)"
   ]
  },
  {
   "cell_type": "code",
   "execution_count": 8,
   "id": "f9c792b6-ba6c-441e-af2a-9270bfa92485",
   "metadata": {},
   "outputs": [
    {
     "name": "stdout",
     "output_type": "stream",
     "text": [
      "('apple', 'banana', 'cherry', 'Kiwi')\n"
     ]
    }
   ],
   "source": [
    "t1 = (\"apple\", \"banana\", \"cherry\")\n",
    "t2 = list(t1)\n",
    "t2.append(\"Kiwi\")\n",
    "t1 = tuple(t2)\n",
    "\n",
    "print(t1)"
   ]
  },
  {
   "cell_type": "code",
   "execution_count": 12,
   "id": "a1a9da96-905b-4c7f-b9f1-baef481d969b",
   "metadata": {},
   "outputs": [
    {
     "name": "stdout",
     "output_type": "stream",
     "text": [
      "apple\n",
      "banana\n",
      "cherry\n"
     ]
    }
   ],
   "source": [
    "t = (\"apple\", \"banana\", \"cherry\") \n",
    "for i in t:\n",
    "    print(i)\n"
   ]
  },
  {
   "cell_type": "code",
   "execution_count": 13,
   "id": "769ff4fe-299a-46a5-b6ad-505a6d32f190",
   "metadata": {},
   "outputs": [
    {
     "name": "stdout",
     "output_type": "stream",
     "text": [
      "apple\n",
      "banana\n",
      "cherry\n"
     ]
    }
   ],
   "source": [
    "t = (\"apple\", \"banana\", \"cherry\") \n",
    "for i in range(len(t)): \n",
    "    print(t[i])"
   ]
  },
  {
   "cell_type": "code",
   "execution_count": 15,
   "id": "556addda-547c-4c9f-97f2-28c1ecffc69a",
   "metadata": {},
   "outputs": [
    {
     "name": "stdout",
     "output_type": "stream",
     "text": [
      "('a', 'b', 'c', 1, 2, 3)\n"
     ]
    }
   ],
   "source": [
    "t1 = (\"a\", \"b\" , \"c\")\n",
    "t2 = (1, 2, 3)\n",
    "t3 = t1 + t2\n",
    "print(t3)\n"
   ]
  },
  {
   "cell_type": "code",
   "execution_count": 16,
   "id": "048bc07e-ffec-4235-acaa-b2281712c674",
   "metadata": {},
   "outputs": [
    {
     "name": "stdout",
     "output_type": "stream",
     "text": [
      "('apple', 'banana', 'cherry', 'apple', 'banana', 'cherry')\n"
     ]
    }
   ],
   "source": [
    "fruits = (\"apple\", \"banana\", \"cherry\")\n",
    "t = fruits *2 \n",
    "print(t)"
   ]
  },
  {
   "cell_type": "markdown",
   "id": "a3b78def-fb2f-4a3f-af89-b29d45ff912c",
   "metadata": {},
   "source": [
    "# (d) Sets"
   ]
  },
  {
   "cell_type": "code",
   "execution_count": 17,
   "id": "91df5c66-164b-4a65-82df-c54e28d619e4",
   "metadata": {},
   "outputs": [
    {
     "name": "stdout",
     "output_type": "stream",
     "text": [
      "{'apple', 'banana', 'cherry'}\n"
     ]
    }
   ],
   "source": [
    "myset = {\"apple\", \"banana\", \"cherry\"} \n",
    "print(myset)"
   ]
  },
  {
   "cell_type": "code",
   "execution_count": 18,
   "id": "849e5ffb-43c3-47b2-a79a-b04aecc87827",
   "metadata": {},
   "outputs": [
    {
     "name": "stdout",
     "output_type": "stream",
     "text": [
      "apple\n",
      "banana\n",
      "cherry\n"
     ]
    }
   ],
   "source": [
    "myset = {\"apple\", \"banana\", \"cherry\"}\n",
    "for x in myset: \n",
    "    print(x)\n"
   ]
  },
  {
   "cell_type": "code",
   "execution_count": 19,
   "id": "2ae0d10a-aa3b-4448-b704-e0c08bf0dd60",
   "metadata": {},
   "outputs": [
    {
     "name": "stdout",
     "output_type": "stream",
     "text": [
      "{'apple', 'orange', 'banana', 'cherry'}\n"
     ]
    }
   ],
   "source": [
    "myset = {\"apple\", \"banana\", \"cherry\"}\n",
    "myset.add(\"orange\") \n",
    "print(myset)"
   ]
  },
  {
   "cell_type": "code",
   "execution_count": 20,
   "id": "53f003d7-f21c-4536-840e-1a925c744cc3",
   "metadata": {},
   "outputs": [
    {
     "name": "stdout",
     "output_type": "stream",
     "text": [
      "{'pineapple', 'banana', 'papaya', 'apple', 'mango', 'cherry'}\n"
     ]
    }
   ],
   "source": [
    "myset = {\"apple\", \"banana\", \"cherry\"}\n",
    "tropical = {\"pineapple\", \"mango\", \"papaya\"}\n",
    "myset.update(tropical)\n",
    "print(myset)"
   ]
  },
  {
   "cell_type": "code",
   "execution_count": 21,
   "id": "95115d04-10e3-4036-9d38-2f8578d8b0bf",
   "metadata": {},
   "outputs": [
    {
     "name": "stdout",
     "output_type": "stream",
     "text": [
      "{'apple', 'cherry'}\n"
     ]
    }
   ],
   "source": [
    "myset = {\"apple\", \"banana\", \"cherry\"}\n",
    "myset.remove(\"banana\") \n",
    "print(myset)\n"
   ]
  },
  {
   "cell_type": "code",
   "execution_count": 22,
   "id": "86fbcf29-251a-48fd-a4dc-5d43ba5fd9b5",
   "metadata": {},
   "outputs": [
    {
     "name": "stdout",
     "output_type": "stream",
     "text": [
      "{'apple', 'cherry'}\n"
     ]
    }
   ],
   "source": [
    "myset = {\"apple\", \"banana\", \"cherry\"}\n",
    "myset.discard(\"banana\") \n",
    "print(myset)"
   ]
  },
  {
   "cell_type": "code",
   "execution_count": 24,
   "id": "1490026a-0d15-44e1-8d39-120853181d64",
   "metadata": {},
   "outputs": [
    {
     "name": "stdout",
     "output_type": "stream",
     "text": [
      "apple\n",
      "banana\n",
      "cherry\n"
     ]
    }
   ],
   "source": [
    "myset = {\"apple\", \"banana\", \"cherry\"} \n",
    "for x in myset:\n",
    "    print(x)\n"
   ]
  },
  {
   "cell_type": "code",
   "execution_count": 32,
   "id": "d37bacbc-d5d7-46be-a972-794c269ff289",
   "metadata": {},
   "outputs": [
    {
     "name": "stdout",
     "output_type": "stream",
     "text": [
      "{1, 2, 3, 'a', 'b', 'c'}\n"
     ]
    }
   ],
   "source": [
    "s1 = {\"a\", \"b\" , \"c\"} \n",
    "s2 = {1, 2, 3}\n",
    "s3 = s1.union(s2)\n",
    "print(s3)"
   ]
  },
  {
   "cell_type": "markdown",
   "id": "04aae6a9-cbd1-4f59-b1ce-ce3f099b3dbc",
   "metadata": {},
   "source": [
    "# (e) Dictionary."
   ]
  },
  {
   "cell_type": "code",
   "execution_count": 38,
   "id": "108d1401-6116-442d-94c9-6390899d46bc",
   "metadata": {},
   "outputs": [
    {
     "name": "stdout",
     "output_type": "stream",
     "text": [
      "{'brand': 'Ford', 'model': 'Mustang', 'year': 1964}\n",
      "Ford\n",
      "Mustang\n"
     ]
    }
   ],
   "source": [
    "d = {\"brand\": \"Ford\",  \"model\": \"Mustang\"  ,  \"year\": 1964}\n",
    "print(d)\n",
    "print(d[\"brand\"])\n",
    "x = d.get(\"model\")\n",
    "print(x)"
   ]
  },
  {
   "cell_type": "code",
   "execution_count": 40,
   "id": "b3677655-321c-44e1-bdf7-0dfa368f797b",
   "metadata": {},
   "outputs": [
    {
     "name": "stdout",
     "output_type": "stream",
     "text": [
      "dict_keys(['brand', 'model', 'year'])\n",
      "dict_keys(['brand', 'model', 'year', 'color'])\n",
      "{'brand': 'Ford', 'model': 'Mustang', 'year': 1964, 'color': 'white'}\n"
     ]
    }
   ],
   "source": [
    "car = {\"brand\": \"Ford\",\"model\": \"Mustang\", \"year\": 1964 }\n",
    "x = car.keys()\n",
    "print(x) #before the change \n",
    "car[\"color\"] = \"white\" \n",
    "print(x) #after the change\n",
    "print(car)\n"
   ]
  },
  {
   "cell_type": "markdown",
   "id": "fa5929c9-236d-4f29-ac9e-35665e7a15e7",
   "metadata": {},
   "source": [
    "# Q-2] Write a Python program to read the admission number and names of 10 students from the keyboard. Create a dictionary of these admission number and names and then display them on the screen"
   ]
  },
  {
   "cell_type": "code",
   "execution_count": 64,
   "id": "449479f1-9244-4493-85ba-18772658ea88",
   "metadata": {},
   "outputs": [
    {
     "name": "stdin",
     "output_type": "stream",
     "text": [
      "Enter admission number:  1001\n",
      "Enter name:  Mark\n"
     ]
    },
    {
     "name": "stdout",
     "output_type": "stream",
     "text": [
      "\n",
      "\n"
     ]
    },
    {
     "name": "stdin",
     "output_type": "stream",
     "text": [
      "Enter admission number:  1002\n",
      "Enter name:  Bethany\n"
     ]
    },
    {
     "name": "stdout",
     "output_type": "stream",
     "text": [
      "\n",
      "\n"
     ]
    },
    {
     "name": "stdin",
     "output_type": "stream",
     "text": [
      "Enter admission number:  1003\n",
      "Enter name:  Kol\n"
     ]
    },
    {
     "name": "stdout",
     "output_type": "stream",
     "text": [
      "\n",
      "\n"
     ]
    },
    {
     "name": "stdin",
     "output_type": "stream",
     "text": [
      "Enter admission number:  1004\n",
      "Enter name:  Klaus\n"
     ]
    },
    {
     "name": "stdout",
     "output_type": "stream",
     "text": [
      "\n",
      "\n"
     ]
    },
    {
     "name": "stdin",
     "output_type": "stream",
     "text": [
      "Enter admission number:  1005\n",
      "Enter name:  Josh\n"
     ]
    },
    {
     "name": "stdout",
     "output_type": "stream",
     "text": [
      "\n",
      "\n"
     ]
    },
    {
     "name": "stdin",
     "output_type": "stream",
     "text": [
      "Enter admission number:  1006\n",
      "Enter name:  Robert\n"
     ]
    },
    {
     "name": "stdout",
     "output_type": "stream",
     "text": [
      "\n",
      "\n"
     ]
    },
    {
     "name": "stdin",
     "output_type": "stream",
     "text": [
      "Enter admission number:  1007\n",
      "Enter name:  Barry\n"
     ]
    },
    {
     "name": "stdout",
     "output_type": "stream",
     "text": [
      "\n",
      "\n"
     ]
    },
    {
     "name": "stdin",
     "output_type": "stream",
     "text": [
      "Enter admission number:  1008\n",
      "Enter name:  Julian\n"
     ]
    },
    {
     "name": "stdout",
     "output_type": "stream",
     "text": [
      "\n",
      "\n"
     ]
    },
    {
     "name": "stdin",
     "output_type": "stream",
     "text": [
      "Enter admission number:  1009\n",
      "Enter name:  Clark\n"
     ]
    },
    {
     "name": "stdout",
     "output_type": "stream",
     "text": [
      "\n",
      "\n"
     ]
    },
    {
     "name": "stdin",
     "output_type": "stream",
     "text": [
      "Enter admission number:  1010\n",
      "Enter name:  Ben\n"
     ]
    },
    {
     "name": "stdout",
     "output_type": "stream",
     "text": [
      "\n",
      "\n",
      "1001 : Mark\n",
      "\n",
      "\n",
      "1002 : Bethany\n",
      "\n",
      "\n",
      "1003 : Kol\n",
      "\n",
      "\n",
      "1004 : Klaus\n",
      "\n",
      "\n",
      "1005 : Josh\n",
      "\n",
      "\n",
      "1006 : Robert\n",
      "\n",
      "\n",
      "1007 : Barry\n",
      "\n",
      "\n",
      "1008 : Julian\n",
      "\n",
      "\n",
      "1009 : Clark\n",
      "\n",
      "\n",
      "1010 : Ben\n",
      "\n",
      "\n"
     ]
    }
   ],
   "source": [
    "My_dict={}\n",
    "for i in range(1,11):\n",
    "    Admission_No=int(input(\"Enter admission number: \"))\n",
    "    Name = input(\"Enter name: \")\n",
    "    My_dict[Admission_No]=Name\n",
    "    print(\"\\n\")\n",
    "    \n",
    "for keys,values in My_dict.items():\n",
    "    print(keys ,\":\", values)\n",
    "    print(\"\\n\")"
   ]
  },
  {
   "cell_type": "code",
   "execution_count": null,
   "id": "cb690f26-9f95-4217-9dff-57b7a75da264",
   "metadata": {},
   "outputs": [],
   "source": []
  }
 ],
 "metadata": {
  "kernelspec": {
   "display_name": "Python 3 (ipykernel)",
   "language": "python",
   "name": "python3"
  },
  "language_info": {
   "codemirror_mode": {
    "name": "ipython",
    "version": 3
   },
   "file_extension": ".py",
   "mimetype": "text/x-python",
   "name": "python",
   "nbconvert_exporter": "python",
   "pygments_lexer": "ipython3",
   "version": "3.10.1"
  }
 },
 "nbformat": 4,
 "nbformat_minor": 5
}

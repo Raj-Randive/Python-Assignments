{
 "cells": [
  {
   "cell_type": "markdown",
   "id": "d4df5acd-5092-49cb-8526-014047574cd9",
   "metadata": {},
   "source": [
    "# Q-1] Write function to Take a single input from  user and return its integer value."
   ]
  },
  {
   "cell_type": "code",
   "execution_count": 7,
   "id": "5e469160-8f46-4d48-a313-0a8ea561607b",
   "metadata": {},
   "outputs": [
    {
     "name": "stdin",
     "output_type": "stream",
     "text": [
      "Enter any number:  456.7893\n"
     ]
    },
    {
     "name": "stdout",
     "output_type": "stream",
     "text": [
      "The integer number is: 456\n"
     ]
    }
   ],
   "source": [
    "def printinteger(x):\n",
    "    print(f\"The integer number is: {int(x)}\")\n",
    "a = float(input(\"Enter any number: \"))\n",
    "printinteger(a)"
   ]
  },
  {
   "cell_type": "markdown",
   "id": "21309690-435c-4c5d-bf3a-7301ae1003cc",
   "metadata": {
    "tags": []
   },
   "source": [
    "# Q-2] Write function to print the results of the  arithmetic operations as shown"
   ]
  },
  {
   "cell_type": "code",
   "execution_count": 6,
   "id": "e16865cf-a8b1-4328-a7df-63fc5a54a72e",
   "metadata": {},
   "outputs": [
    {
     "name": "stdin",
     "output_type": "stream",
     "text": [
      "Enter the value of a\n",
      ">  25\n",
      "Enter the value of b\n",
      ">  5\n"
     ]
    },
    {
     "name": "stdout",
     "output_type": "stream",
     "text": [
      "Adding 25 with 5\n",
      "Ans: 30\n",
      "Subtracting 5 from 25\n",
      "Ans: 20\n",
      "Multiplying 25 with 5\n",
      "Ans: 125\n",
      "Dividing 25 by 5\n",
      "Ans: 5\n"
     ]
    }
   ],
   "source": [
    "def ASMD(a, b):\n",
    "    print(f\"Adding {a} with {b}\\nAns: {a+b}\")\n",
    "    print(f\"Subtracting {b} from {a}\\nAns: {a-b}\")\n",
    "    print(f\"Multiplying {a} with {b}\\nAns: {a*b}\")\n",
    "    print(f\"Dividing {a} by {b}\\nAns: {int(a/b)}\")\n",
    "x = int(input(\"Enter the value of a\\n> \"))\n",
    "y = int(input(\"Enter the value of b\\n> \"))\n",
    "ASMD(x,y)"
   ]
  }
 ],
 "metadata": {
  "kernelspec": {
   "display_name": "Python 3 (ipykernel)",
   "language": "python",
   "name": "python3"
  },
  "language_info": {
   "codemirror_mode": {
    "name": "ipython",
    "version": 3
   },
   "file_extension": ".py",
   "mimetype": "text/x-python",
   "name": "python",
   "nbconvert_exporter": "python",
   "pygments_lexer": "ipython3",
   "version": "3.10.1"
  }
 },
 "nbformat": 4,
 "nbformat_minor": 5
}

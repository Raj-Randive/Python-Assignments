{
 "cells": [
  {
   "cell_type": "markdown",
   "id": "c48c6fc4-5649-49e9-a3d5-f67e933bd7d5",
   "metadata": {},
   "source": [
    "# Name: Raj Randive\n",
    "# Roll Number: 21BCP378"
   ]
  },
  {
   "cell_type": "markdown",
   "id": "29854d62-b4c2-4485-a761-a41ffc9c1349",
   "metadata": {
    "tags": []
   },
   "source": [
    "# 1] To handle zero division error."
   ]
  },
  {
   "cell_type": "code",
   "execution_count": 1,
   "id": "2b60c730-de8d-40fb-bad6-0432d54768de",
   "metadata": {},
   "outputs": [
    {
     "name": "stdout",
     "output_type": "stream",
     "text": [
      "Division by Zero\n"
     ]
    }
   ],
   "source": [
    "try:\n",
    "    a=1\n",
    "    b=0\n",
    "    print(a/b)\n",
    "except ZeroDivisionError:\n",
    "    print(\"Division by Zero\")"
   ]
  },
  {
   "cell_type": "markdown",
   "id": "ce171b9c-b030-4d6b-ba00-17e0a99d0e83",
   "metadata": {},
   "source": [
    "# 2] To handle error while working with file"
   ]
  },
  {
   "cell_type": "code",
   "execution_count": 2,
   "id": "032cf8e4-3ae3-4223-97c6-36fe2cec8914",
   "metadata": {},
   "outputs": [
    {
     "name": "stdout",
     "output_type": "stream",
     "text": [
      "File not found error\n"
     ]
    }
   ],
   "source": [
    "try:\n",
    "    f = open('a.txt', 'r')\n",
    "    f.close()\n",
    "except FileNotFoundError:\n",
    "    print(\"File not found error\")"
   ]
  },
  {
   "cell_type": "markdown",
   "id": "a28b7587-baa7-4f98-b5f9-7940bfe2eaa1",
   "metadata": {},
   "source": [
    "# 3] To handle value error"
   ]
  },
  {
   "cell_type": "code",
   "execution_count": 3,
   "id": "b5466e76-d8ad-4be8-b13f-06ea41f83a42",
   "metadata": {},
   "outputs": [
    {
     "name": "stdout",
     "output_type": "stream",
     "text": [
      "Error with Value\n"
     ]
    }
   ],
   "source": [
    "import math\n",
    "try:\n",
    "    a = math.sqrt(-1)\n",
    "    print(a)\n",
    "except ValueError:\n",
    "    print(\"Error with Value\")"
   ]
  },
  {
   "cell_type": "code",
   "execution_count": null,
   "id": "1482706d-9f7b-4835-a787-c35eebc1d7b3",
   "metadata": {},
   "outputs": [],
   "source": []
  }
 ],
 "metadata": {
  "kernelspec": {
   "display_name": "Python 3 (ipykernel)",
   "language": "python",
   "name": "python3"
  },
  "language_info": {
   "codemirror_mode": {
    "name": "ipython",
    "version": 3
   },
   "file_extension": ".py",
   "mimetype": "text/x-python",
   "name": "python",
   "nbconvert_exporter": "python",
   "pygments_lexer": "ipython3",
   "version": "3.10.1"
  }
 },
 "nbformat": 4,
 "nbformat_minor": 5
}
